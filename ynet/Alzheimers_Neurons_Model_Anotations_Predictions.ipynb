{
 "cells": [
  {
   "cell_type": "code",
   "execution_count": 1,
   "metadata": {},
   "outputs": [
    {
     "name": "stdout",
     "output_type": "stream",
     "text": [
      "Nothing done.\n"
     ]
    },
    {
     "name": "stderr",
     "output_type": "stream",
     "text": [
      "c:\\Users\\uugob\\miniconda3\\envs\\tufts_env\\lib\\site-packages\\paramiko\\transport.py:219: CryptographyDeprecationWarning: Blowfish has been deprecated\n",
      "  \"class\": algorithms.Blowfish,\n"
     ]
    },
    {
     "ename": "ImportError",
     "evalue": "cannot import name 'open_and_correct_images_silk' from 'combination' (c:\\Users\\uugob\\YNET\\YNET\\ynet\\combination.py)",
     "output_type": "error",
     "traceback": [
      "\u001b[1;31m---------------------------------------------------------------------------\u001b[0m",
      "\u001b[1;31mImportError\u001b[0m                               Traceback (most recent call last)",
      "Cell \u001b[1;32mIn[1], line 30\u001b[0m\n\u001b[0;32m     28\u001b[0m \u001b[38;5;28;01mimport\u001b[39;00m \u001b[38;5;21;01mnapari\u001b[39;00m\n\u001b[0;32m     29\u001b[0m \u001b[38;5;28;01mimport\u001b[39;00m \u001b[38;5;21;01msys\u001b[39;00m\n\u001b[1;32m---> 30\u001b[0m \u001b[38;5;28;01mfrom\u001b[39;00m \u001b[38;5;21;01mcombination\u001b[39;00m \u001b[38;5;28;01mimport\u001b[39;00m unpatchete,compute_metrics,plot_metric,plot_base_tri, open_and_correct_image,process_matfiles,open_and_correct_images_silk\n\u001b[0;32m     31\u001b[0m \u001b[38;5;28;01mfrom\u001b[39;00m \u001b[38;5;21;01mcombination\u001b[39;00m \u001b[38;5;28;01mimport\u001b[39;00m make_initial_masks, loading_train_val_test_data, minmax, open_and_correct_images,plot_base_duo,quality_assurance_duo,quality_assurance\n\u001b[0;32m     32\u001b[0m \u001b[38;5;28;01mfrom\u001b[39;00m \u001b[38;5;21;01mcombination\u001b[39;00m \u001b[38;5;28;01mimport\u001b[39;00m July_Alzer, July_Alzer_ctrl\n",
      "\u001b[1;31mImportError\u001b[0m: cannot import name 'open_and_correct_images_silk' from 'combination' (c:\\Users\\uugob\\YNET\\YNET\\ynet\\combination.py)"
     ]
    }
   ],
   "source": [
    "# -*- coding: utf-8 -*-\n",
    "\"\"\"\n",
    "Created on Dec 14 04:04:03 2023\n",
    "\n",
    "@author: Ugochukwu O. Ugwu\n",
    "\"\"\"\n",
    "__email__ = \"uugobinnah@gmail.com\"\n",
    "\n",
    "#!/usr/bin/tufts_env python\n",
    "\"\"\"\n",
    "--------------------------------------------------------------------------\n",
    "Created November 20, 2023 for Deep-Py library\n",
    "\"\"\"\n",
    "\n",
    "%reset\n",
    "import numpy as np\n",
    "import matplotlib.pyplot as plt\n",
    "from keras.models import load_model\n",
    "import pandas as pd\n",
    "from tensorflow.keras.utils import to_categorical\n",
    "import h5py\n",
    "from transposition import trans\n",
    "import matplotlib.pyplot as plt\n",
    "import ipywidgets as widgets\n",
    "from IPython.display import display, clear_output\n",
    "import numpy as np\n",
    "import os\n",
    "import napari\n",
    "import sys\n",
    "from combination import unpatchete,compute_metrics,plot_metric,plot_base_tri, open_and_correct_image,process_matfiles,open_and_correct_images_silk\n",
    "from combination import make_initial_masks, loading_train_val_test_data, minmax, open_and_correct_images,plot_base_duo,quality_assurance_duo,quality_assurance\n",
    "from combination import July_Alzer, July_Alzer_ctrl"
   ]
  },
  {
   "cell_type": "markdown",
   "metadata": {},
   "source": [
    "Use the following to perform multiple mask predicted and populate the folders with predicted masks"
   ]
  },
  {
   "cell_type": "markdown",
   "metadata": {},
   "source": [
    "1. Controls"
   ]
  },
  {
   "cell_type": "code",
   "execution_count": null,
   "metadata": {},
   "outputs": [],
   "source": [
    "var = ['V:/Archive/Maria/New_Data_for_ML/Control123_Day7_noTreat_1n2.mat']\n",
    "varo = ['ResultsUpd_Intensity_1n2']\n",
    "for i in range(len(var)):\n",
    "    output_path = f'V:/Archive/Maria/Alzheimer_3rdFullRound_DrugStudy_May2024/Day7_MOCK_05.07.2024/{varo[i]}'\n",
    "    result = July_Alzer_ctrl(var[i],output_path)"
   ]
  },
  {
   "cell_type": "markdown",
   "metadata": {},
   "source": [
    "2. HSV and HSVnGTC Datasets"
   ]
  },
  {
   "cell_type": "code",
   "execution_count": 2,
   "metadata": {},
   "outputs": [
    {
     "name": "stdout",
     "output_type": "stream",
     "text": [
      "1/1 [==============================] - 8s 8s/step\n",
      "1/1 [==============================] - 4s 4s/step\n",
      "1/1 [==============================] - 4s 4s/step\n",
      "1/1 [==============================] - 4s 4s/step\n",
      "WARNING:tensorflow:5 out of the last 5 calls to <function Model.make_predict_function.<locals>.predict_function at 0x000001D1183EB1F0> triggered tf.function retracing. Tracing is expensive and the excessive number of tracings could be due to (1) creating @tf.function repeatedly in a loop, (2) passing tensors with different shapes, (3) passing Python objects instead of tensors. For (1), please define your @tf.function outside of the loop. For (2), @tf.function has reduce_retracing=True option that can avoid unnecessary retracing. For (3), please refer to https://www.tensorflow.org/guide/function#controlling_retracing and https://www.tensorflow.org/api_docs/python/tf/function for  more details.\n",
      "1/1 [==============================] - 4s 4s/step\n",
      "WARNING:tensorflow:6 out of the last 6 calls to <function Model.make_predict_function.<locals>.predict_function at 0x000001D1183EB4C0> triggered tf.function retracing. Tracing is expensive and the excessive number of tracings could be due to (1) creating @tf.function repeatedly in a loop, (2) passing tensors with different shapes, (3) passing Python objects instead of tensors. For (1), please define your @tf.function outside of the loop. For (2), @tf.function has reduce_retracing=True option that can avoid unnecessary retracing. For (3), please refer to https://www.tensorflow.org/guide/function#controlling_retracing and https://www.tensorflow.org/api_docs/python/tf/function for  more details.\n",
      "1/1 [==============================] - 4s 4s/step\n",
      "1/1 [==============================] - 4s 4s/step\n",
      "1/1 [==============================] - 4s 4s/step\n",
      "1/1 [==============================] - 5s 5s/step\n",
      "1/1 [==============================] - 4s 4s/step\n",
      "1/1 [==============================] - 3s 3s/step\n",
      "1/1 [==============================] - 3s 3s/step\n",
      "1/1 [==============================] - 3s 3s/step\n",
      "1/1 [==============================] - 3s 3s/step\n",
      "1/1 [==============================] - 4s 4s/step\n",
      "1/1 [==============================] - 3s 3s/step\n",
      "1/1 [==============================] - 3s 3s/step\n",
      "1/1 [==============================] - 4s 4s/step\n",
      "1/1 [==============================] - 3s 3s/step\n",
      "1/1 [==============================] - 3s 3s/step\n",
      "1/1 [==============================] - 3s 3s/step\n",
      "1/1 [==============================] - 3s 3s/step\n",
      "1/1 [==============================] - 3s 3s/step\n",
      "1/1 [==============================] - 4s 4s/step\n",
      "1/1 [==============================] - 3s 3s/step\n",
      "1/1 [==============================] - 3s 3s/step\n",
      "1/1 [==============================] - 3s 3s/step\n",
      "1/1 [==============================] - 4s 4s/step\n",
      "1/1 [==============================] - 3s 3s/step\n",
      "1/1 [==============================] - 3s 3s/step\n",
      "1/1 [==============================] - 3s 3s/step\n",
      "1/1 [==============================] - 4s 4s/step\n",
      "1/1 [==============================] - 3s 3s/step\n",
      "1/1 [==============================] - 3s 3s/step\n",
      "1/1 [==============================] - 3s 3s/step\n",
      "1/1 [==============================] - 4s 4s/step\n",
      "1/1 [==============================] - 3s 3s/step\n",
      "1/1 [==============================] - 4s 4s/step\n",
      "1/1 [==============================] - 3s 3s/step\n",
      "1/1 [==============================] - 4s 4s/step\n",
      "1/1 [==============================] - 3s 3s/step\n",
      "1/1 [==============================] - 4s 4s/step\n",
      "1/1 [==============================] - 3s 3s/step\n",
      "1/1 [==============================] - 3s 3s/step\n",
      "1/1 [==============================] - 4s 4s/step\n",
      "1/1 [==============================] - 4s 4s/step\n",
      "1/1 [==============================] - 4s 4s/step\n",
      "1/1 [==============================] - 3s 3s/step\n",
      "1/1 [==============================] - 3s 3s/step\n",
      "1/1 [==============================] - 3s 3s/step\n",
      "1/1 [==============================] - 3s 3s/step\n",
      "1/1 [==============================] - 4s 4s/step\n",
      "1/1 [==============================] - 3s 3s/step\n",
      "1/1 [==============================] - 4s 4s/step\n",
      "1/1 [==============================] - 3s 3s/step\n",
      "1/1 [==============================] - 4s 4s/step\n",
      "1/1 [==============================] - 3s 3s/step\n",
      "1/1 [==============================] - 3s 3s/step\n",
      "1/1 [==============================] - 3s 3s/step\n",
      "1/1 [==============================] - 4s 4s/step\n",
      "1/1 [==============================] - 3s 3s/step\n",
      "1/1 [==============================] - 4s 4s/step\n",
      "1/1 [==============================] - 3s 3s/step\n",
      "1/1 [==============================] - 4s 4s/step\n",
      "1/1 [==============================] - 4s 4s/step\n",
      "1/1 [==============================] - 4s 4s/step\n",
      "1/1 [==============================] - 4s 4s/step\n",
      "1/1 [==============================] - 4s 4s/step\n",
      "1/1 [==============================] - 4s 4s/step\n",
      "1/1 [==============================] - 3s 3s/step\n",
      "1/1 [==============================] - 3s 3s/step\n",
      "1/1 [==============================] - 3s 3s/step\n",
      "1/1 [==============================] - 4s 4s/step\n",
      "1/1 [==============================] - 4s 4s/step\n",
      "1/1 [==============================] - 3s 3s/step\n",
      "1/1 [==============================] - 4s 4s/step\n",
      "1/1 [==============================] - 4s 4s/step\n",
      "1/1 [==============================] - 3s 3s/step\n",
      "1/1 [==============================] - 4s 4s/step\n",
      "1/1 [==============================] - 3s 3s/step\n",
      "1/1 [==============================] - 4s 4s/step\n",
      "1/1 [==============================] - 3s 3s/step\n",
      "1/1 [==============================] - 4s 4s/step\n",
      "1/1 [==============================] - 4s 4s/step\n",
      "1/1 [==============================] - 4s 4s/step\n",
      "1/1 [==============================] - 4s 4s/step\n",
      "1/1 [==============================] - 3s 3s/step\n",
      "1/1 [==============================] - 3s 3s/step\n",
      "1/1 [==============================] - 3s 3s/step\n",
      "1/1 [==============================] - 3s 3s/step\n",
      "1/1 [==============================] - 4s 4s/step\n",
      "1/1 [==============================] - 4s 4s/step\n",
      "1/1 [==============================] - 3s 3s/step\n",
      "1/1 [==============================] - 3s 3s/step\n",
      "1/1 [==============================] - 3s 3s/step\n",
      "1/1 [==============================] - 3s 3s/step\n",
      "1/1 [==============================] - 3s 3s/step\n",
      "1/1 [==============================] - 3s 3s/step\n",
      "1/1 [==============================] - 8s 8s/step\n",
      "1/1 [==============================] - 3s 3s/step\n",
      "1/1 [==============================] - 3s 3s/step\n",
      "1/1 [==============================] - 3s 3s/step\n",
      "1/1 [==============================] - 3s 3s/step\n",
      "1/1 [==============================] - 3s 3s/step\n",
      "1/1 [==============================] - 3s 3s/step\n",
      "1/1 [==============================] - 3s 3s/step\n",
      "1/1 [==============================] - 3s 3s/step\n",
      "1/1 [==============================] - 3s 3s/step\n",
      "1/1 [==============================] - 3s 3s/step\n",
      "1/1 [==============================] - 3s 3s/step\n",
      "1/1 [==============================] - 3s 3s/step\n",
      "1/1 [==============================] - 3s 3s/step\n",
      "1/1 [==============================] - 3s 3s/step\n",
      "1/1 [==============================] - 3s 3s/step\n",
      "1/1 [==============================] - 3s 3s/step\n",
      "1/1 [==============================] - 3s 3s/step\n",
      "1/1 [==============================] - 3s 3s/step\n",
      "1/1 [==============================] - 3s 3s/step\n",
      "1/1 [==============================] - 3s 3s/step\n",
      "1/1 [==============================] - 4s 4s/step\n",
      "1/1 [==============================] - 3s 3s/step\n",
      "1/1 [==============================] - 3s 3s/step\n",
      "1/1 [==============================] - 3s 3s/step\n",
      "1/1 [==============================] - 3s 3s/step\n",
      "1/1 [==============================] - 3s 3s/step\n",
      "1/1 [==============================] - 3s 3s/step\n",
      "1/1 [==============================] - 3s 3s/step\n",
      "1/1 [==============================] - 3s 3s/step\n",
      "1/1 [==============================] - 3s 3s/step\n",
      "1/1 [==============================] - 3s 3s/step\n",
      "1/1 [==============================] - 3s 3s/step\n",
      "1/1 [==============================] - 3s 3s/step\n",
      "1/1 [==============================] - 3s 3s/step\n",
      "1/1 [==============================] - 3s 3s/step\n",
      "1/1 [==============================] - 3s 3s/step\n",
      "1/1 [==============================] - 3s 3s/step\n",
      "1/1 [==============================] - 3s 3s/step\n",
      "1/1 [==============================] - 3s 3s/step\n",
      "1/1 [==============================] - 3s 3s/step\n",
      "1/1 [==============================] - 3s 3s/step\n",
      "1/1 [==============================] - 3s 3s/step\n",
      "1/1 [==============================] - 3s 3s/step\n"
     ]
    }
   ],
   "source": [
    "var = ['V:/Archive/Maria/New_Data_for_ML/HSVinfec3_Day3_GTC_1.mat','V:/Archive/Maria/New_Data_for_ML/HSVinfec3_Day3_GTC_2.mat']\n",
    "varo = ['ResultsUpd_Intensity_Puck3_1','ResultsUpd_Intensity_Puck3_2']\n",
    "for i in range(len(var)):\n",
    "    output_path = f'V:\\Archive\\Maria\\Alzheimer_3rdFullRound_DrugStudy_May2024\\Day3_HSVnGTC_05.06.2024/{varo[i]}'\n",
    "    result = July_Alzer(var[i],output_path,'Day3_')"
   ]
  },
  {
   "cell_type": "markdown",
   "metadata": {},
   "source": [
    "Use the following to predict masks for FLIM images. Here each ROI has an optical section"
   ]
  },
  {
   "cell_type": "markdown",
   "metadata": {},
   "source": [
    "1. Predict mask for an ROI"
   ]
  },
  {
   "cell_type": "code",
   "execution_count": 13,
   "metadata": {},
   "outputs": [
    {
     "name": "stdout",
     "output_type": "stream",
     "text": [
      "WARNING:tensorflow:5 out of the last 5 calls to <function Model.make_predict_function.<locals>.predict_function at 0x000001F896257820> triggered tf.function retracing. Tracing is expensive and the excessive number of tracings could be due to (1) creating @tf.function repeatedly in a loop, (2) passing tensors with different shapes, (3) passing Python objects instead of tensors. For (1), please define your @tf.function outside of the loop. For (2), @tf.function has reduce_retracing=True option that can avoid unnecessary retracing. For (3), please refer to https://www.tensorflow.org/guide/function#controlling_retracing and https://www.tensorflow.org/api_docs/python/tf/function for  more details.\n",
      "1/1 [==============================] - 1s 541ms/step\n",
      "WARNING:tensorflow:6 out of the last 6 calls to <function Model.make_predict_function.<locals>.predict_function at 0x000001F89622EE50> triggered tf.function retracing. Tracing is expensive and the excessive number of tracings could be due to (1) creating @tf.function repeatedly in a loop, (2) passing tensors with different shapes, (3) passing Python objects instead of tensors. For (1), please define your @tf.function outside of the loop. For (2), @tf.function has reduce_retracing=True option that can avoid unnecessary retracing. For (3), please refer to https://www.tensorflow.org/guide/function#controlling_retracing and https://www.tensorflow.org/api_docs/python/tf/function for  more details.\n",
      "1/1 [==============================] - 1s 603ms/step\n"
     ]
    },
    {
     "data": {
      "application/vnd.jupyter.widget-view+json": {
       "model_id": "a80faca6b9a9414791cba434e34340f0",
       "version_major": 2,
       "version_minor": 0
      },
      "text/plain": [
       "VBox(children=(HBox(children=(Button(description='Back', style=ButtonStyle()), Button(description='Next', styl…"
      ]
     },
     "metadata": {},
     "output_type": "display_data"
    },
    {
     "data": {
      "application/vnd.jupyter.widget-view+json": {
       "model_id": "03c363e4b2d048789f6e01bbd9775f15",
       "version_major": 2,
       "version_minor": 0
      },
      "text/plain": [
       "Output()"
      ]
     },
     "metadata": {},
     "output_type": "display_data"
    }
   ],
   "source": [
    "matfile = 'FLIMIma_HSV1_Day3_1_noTreat_11_TP1'\n",
    "var = f'V:/Archive/Maria/Alzheimer_3rdFullRound_DrugStudy_May2024/FLIM_Day3_HSV1_05.04.2024/Results/Data_{matfile}.mat'\n",
    "X,y = quality_assurance_duo(var)\n",
    "\n",
    "the = \"Illustrating the Performance of 2D YNET on Alzheimer's Data (3rd Round (Tile 2), May 2024)\"\n",
    "custom_name = f\"Data_{matfile}\"\n",
    "plot_base_duo(X.clip(0.001,0.1),y, 0.5, the,custom_name)\n",
    "\n",
    "stack_of_masks = y\n",
    "save_directory = 'V:/Archive/Maria/Alzheimer_3rdFullRound_DrugStudy_May2024/FLIM_Day3_HSV1_05.04.2024/Results/' \n",
    "default_filename = f'Predict_{matfile}'  \n",
    "open_and_correct_images(np.sum(X,axis=3),y, save_directory, default_filename)"
   ]
  },
  {
   "cell_type": "markdown",
   "metadata": {},
   "source": [
    "2. Assume the FLIM mask are already predicted and stored in a folder and needs cleaning"
   ]
  },
  {
   "cell_type": "code",
   "execution_count": 20,
   "metadata": {},
   "outputs": [
    {
     "data": {
      "application/vnd.jupyter.widget-view+json": {
       "model_id": "2b8638fd0500439795401542953df9fa",
       "version_major": 2,
       "version_minor": 0
      },
      "text/plain": [
       "VBox(children=(HBox(children=(Button(description='Back', style=ButtonStyle()), Button(description='Next', styl…"
      ]
     },
     "metadata": {},
     "output_type": "display_data"
    },
    {
     "data": {
      "application/vnd.jupyter.widget-view+json": {
       "model_id": "418aab44fc9040bf94e9ffda0f2bd42a",
       "version_major": 2,
       "version_minor": 0
      },
      "text/plain": [
       "Output()"
      ]
     },
     "metadata": {},
     "output_type": "display_data"
    }
   ],
   "source": [
    "matfile = 'FLIMIma_HSV1_Day3_1_noTreat_11_TP1'\n",
    "var = f'V:/Archive/Maria/Alzheimer_3rdFullRound_DrugStudy_May2024/FLIM_Day3_HSV1_05.04.2024/Results/Datam_{matfile}.mat'\n",
    "X,y = quality_assurance(var)\n",
    "\n",
    "the = \"Illustrating the Performance of 2D YNET on Alzheimer's Data (3rd Round (Tile 2), May 2024)\"\n",
    "custom_name = f\"Datam_{matfile}\"\n",
    "plot_base_duo(X.clip(0.00001,0.0005), np.expand_dims(y.T,axis=0), 0.5, the,custom_name)\n",
    "\n",
    "stack_of_masks = y\n",
    "save_directory = 'V:/Archive/Maria/Alzheimer_3rdFullRound_DrugStudy_May2024/FLIM_Day3_HSV1_05.04.2024/Results/'  \n",
    "default_filename = f'Predict_{matfile}'  \n",
    "open_and_correct_images(np.sum(X,axis=3),np.expand_dims(y.T,axis=0), save_directory, default_filename)"
   ]
  },
  {
   "cell_type": "markdown",
   "metadata": {},
   "source": [
    "3. Here, you want to simultaneously correct predicted masks (annotate weak cells) and annotate silk "
   ]
  },
  {
   "cell_type": "code",
   "execution_count": 3,
   "metadata": {},
   "outputs": [
    {
     "data": {
      "application/vnd.jupyter.widget-view+json": {
       "model_id": "df37e023189a4ffa9c7b13ff69ae71e7",
       "version_major": 2,
       "version_minor": 0
      },
      "text/plain": [
       "VBox(children=(HBox(children=(Button(description='Back', style=ButtonStyle()), Button(description='Next', styl…"
      ]
     },
     "metadata": {},
     "output_type": "display_data"
    },
    {
     "data": {
      "application/vnd.jupyter.widget-view+json": {
       "model_id": "8b9dfe0b5542486581af47347e39fa11",
       "version_major": 2,
       "version_minor": 0
      },
      "text/plain": [
       "Output()"
      ]
     },
     "metadata": {},
     "output_type": "display_data"
    }
   ],
   "source": [
    "matfile = 'FLIMIma_HSV1_Day3_1_noTreat_11_TP1'\n",
    "var = f'V:/Archive/Maria/Alzheimer_3rdFullRound_DrugStudy_May2024/FLIM_Day3_HSV1_05.04.2024/Results/Datam_{matfile}.mat'\n",
    "X,y = quality_assurance(var)\n",
    "\n",
    "the = \"Illustrating the Performance of 2D YNET on Alzheimer's Data (3rd Round (Tile 2), May 2024)\"\n",
    "custom_name = f\"Datam_{matfile}\"\n",
    "plot_base_duo(X.clip(0.00001,0.0005), np.expand_dims(y.T,axis=0), 0.5, the,custom_name)\n",
    "\n",
    "stack_of_masks = y\n",
    "save_directory = 'V:/Archive/Maria/Alzheimer_3rdFullRound_DrugStudy_May2024/FLIM_Day3_HSV1_05.04.2024/Results/'  \n",
    "default_filename = f'Predict_{matfile}'  \n",
    "open_and_correct_images_silk(np.sum(X,axis=3),np.expand_dims(y.T,axis=0), save_directory, default_filename)"
   ]
  },
  {
   "cell_type": "markdown",
   "metadata": {},
   "source": [
    "Cleaning multiple optical sections follow a similar pattern as described above."
   ]
  },
  {
   "cell_type": "markdown",
   "metadata": {},
   "source": [
    "1. Assume masks already predicted and stored in the folders. Images and masks are loaded for different optical sections"
   ]
  },
  {
   "cell_type": "code",
   "execution_count": 3,
   "metadata": {},
   "outputs": [
    {
     "data": {
      "application/vnd.jupyter.widget-view+json": {
       "model_id": "9640abb73a534b4b80c52860d773c531",
       "version_major": 2,
       "version_minor": 0
      },
      "text/plain": [
       "VBox(children=(HBox(children=(Button(description='Back', style=ButtonStyle()), Button(description='Next', styl…"
      ]
     },
     "metadata": {},
     "output_type": "display_data"
    },
    {
     "data": {
      "application/vnd.jupyter.widget-view+json": {
       "model_id": "515f8207b48e4d1b9c2048cf7789b61a",
       "version_major": 2,
       "version_minor": 0
      },
      "text/plain": [
       "Output()"
      ]
     },
     "metadata": {},
     "output_type": "display_data"
    }
   ],
   "source": [
    "matfile = 'HSVinfec2_Day7_s30_noTreat_2'\n",
    "var = f'V:/Archive/Maria/Alzheimer_3rdFullRound_DrugStudy_May2024/Day7_HSV_05.08.2024/ResultsUpd_Intensity_Puck2_2/Datam_{matfile}.mat'\n",
    "X,y = quality_assurance(var)\n",
    "\n",
    "the = \"Illustrating the Performance of 2D YNET on Alzheimer's Data (3rd Round (Tile 2), May 2024)\"\n",
    "custom_name = f\"Datam_{matfile}\"\n",
    "plot_base_duo(X.clip(0.00001,0.0005), y, 0.5, the,custom_name)\n",
    "\n",
    "stack_of_masks = y\n",
    "save_directory = 'V:/Archive/Maria/Alzheimer_3rdFullRound_DrugStudy_May2024/Day7_HSV_05.08.2024/ResultsUpd_Intensity_Puck2_2/'  \n",
    "default_filename = f'Predicts_{matfile}'  \n",
    "open_and_correct_images_silk(np.sum(X,axis=3), y, save_directory, default_filename)"
   ]
  },
  {
   "cell_type": "markdown",
   "metadata": {},
   "source": [
    "2. Assume the masks are already predicted and cleaning of  optical sections are required"
   ]
  },
  {
   "cell_type": "code",
   "execution_count": 4,
   "metadata": {},
   "outputs": [
    {
     "data": {
      "application/vnd.jupyter.widget-view+json": {
       "model_id": "721df2140d724152a333cdf41f7cec8b",
       "version_major": 2,
       "version_minor": 0
      },
      "text/plain": [
       "VBox(children=(HBox(children=(Button(description='Back', style=ButtonStyle()), Button(description='Next', styl…"
      ]
     },
     "metadata": {},
     "output_type": "display_data"
    },
    {
     "data": {
      "application/vnd.jupyter.widget-view+json": {
       "model_id": "93750e10e2f040788c438232bd910478",
       "version_major": 2,
       "version_minor": 0
      },
      "text/plain": [
       "Output()"
      ]
     },
     "metadata": {},
     "output_type": "display_data"
    }
   ],
   "source": [
    "matfile = 'HSVinfec2_Day7_s30_noTreat_2'\n",
    "var = f'V:/Archive/Maria/Alzheimer_3rdFullRound_DrugStudy_May2024/Day7_HSV_05.08.2024/ResultsUpd_Intensity_Puck2_2/Datam_{matfile}.mat'\n",
    "X,y = quality_assurance(var)\n",
    "\n",
    "the = \"Illustrating the Performance of 2D YNET on Alzheimer's Data (3rd Round (Tile 2), May 2024)\"\n",
    "custom_name = f\"Datam_{matfile}\"\n",
    "plot_base_duo(X.clip(0.00001,0.0005), y, 0.5, the,custom_name)\n",
    "\n",
    "stack_of_masks = y\n",
    "save_directory = 'V:/Archive/Maria/Alzheimer_3rdFullRound_DrugStudy_May2024/Day7_HSV_05.08.2024/ResultsUpd_Intensity_Puck2_2/'  \n",
    "default_filename = f'Predict_{matfile}'  \n",
    "open_and_correct_images(np.sum(X,axis=3), y, save_directory, default_filename)"
   ]
  }
 ],
 "metadata": {
  "kernelspec": {
   "display_name": "tufts_env",
   "language": "python",
   "name": "python3"
  },
  "language_info": {
   "codemirror_mode": {
    "name": "ipython",
    "version": 3
   },
   "file_extension": ".py",
   "mimetype": "text/x-python",
   "name": "python",
   "nbconvert_exporter": "python",
   "pygments_lexer": "ipython3",
   "version": "3.9.18"
  }
 },
 "nbformat": 4,
 "nbformat_minor": 2
}
