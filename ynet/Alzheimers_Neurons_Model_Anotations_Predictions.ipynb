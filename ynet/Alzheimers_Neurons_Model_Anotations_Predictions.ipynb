{
 "cells": [
  {
   "cell_type": "code",
   "execution_count": 1,
   "metadata": {},
   "outputs": [
    {
     "name": "stdout",
     "output_type": "stream",
     "text": [
      "Nothing done.\n"
     ]
    },
    {
     "name": "stderr",
     "output_type": "stream",
     "text": [
      "c:\\Users\\uugob\\miniconda3\\envs\\tufts_env\\lib\\site-packages\\paramiko\\transport.py:219: CryptographyDeprecationWarning: Blowfish has been deprecated\n",
      "  \"class\": algorithms.Blowfish,\n"
     ]
    }
   ],
   "source": [
    "# -*- coding: utf-8 -*-\n",
    "\"\"\"\n",
    "Created on Dec 14 04:04:03 2023\n",
    "\n",
    "@author: Ugochukwu O. Ugwu\n",
    "\"\"\"\n",
    "__email__ = \"uugobinnah@gmail.com\"\n",
    "\n",
    "#!/usr/bin/tufts_env python\n",
    "\"\"\"\n",
    "--------------------------------------------------------------------------\n",
    "Created November 20, 2023 for Deep-Py library\n",
    "\"\"\"\n",
    "\n",
    "%reset\n",
    "import numpy as np\n",
    "import matplotlib.pyplot as plt\n",
    "from keras.models import load_model\n",
    "import pandas as pd\n",
    "from tensorflow.keras.utils import to_categorical\n",
    "import h5py\n",
    "from transposition import trans\n",
    "import matplotlib.pyplot as plt\n",
    "import ipywidgets as widgets\n",
    "from IPython.display import display, clear_output\n",
    "import numpy as np\n",
    "import os\n",
    "import napari\n",
    "import sys\n",
    "from combination import unpatchete,compute_metrics,plot_metric,plot_base_tri, open_and_correct_image,process_matfiles,open_and_correct_images_silk\n",
    "from combination import make_initial_masks, loading_train_val_test_data, minmax, open_and_correct_images,plot_base_duo,quality_assurance_duo,quality_assurance\n",
    "from combination import July_Alzer, July_Alzer_ctrl"
   ]
  },
  {
   "cell_type": "markdown",
   "metadata": {},
   "source": [
    "Use the following to perform multiple mask predicted and populate the folders with predicted masks"
   ]
  },
  {
   "cell_type": "markdown",
   "metadata": {},
   "source": [
    "1. Controls"
   ]
  },
  {
   "cell_type": "code",
   "execution_count": null,
   "metadata": {},
   "outputs": [],
   "source": [
    "var = ['V:/Archive/Maria/New_Data_for_ML/Control123_Day7_noTreat_1n2.mat']\n",
    "varo = ['ResultsUpd_Intensity_1n2']\n",
    "for i in range(len(var)):\n",
    "    output_path = f'V:/Archive/Maria/Alzheimer_3rdFullRound_DrugStudy_May2024/Day7_MOCK_05.07.2024/{varo[i]}'\n",
    "    result = July_Alzer_ctrl(var[i],output_path)"
   ]
  },
  {
   "cell_type": "markdown",
   "metadata": {},
   "source": [
    "2. HSV and HSVnGTC Datasets"
   ]
  },
  {
   "cell_type": "code",
   "execution_count": null,
   "metadata": {},
   "outputs": [],
   "source": [
    "var = ['V:/Archive/Maria/New_Data_for_ML/HSVinfec3_Day3_GTC_1.mat','V:/Archive/Maria/New_Data_for_ML/HSVinfec3_Day3_GTC_2.mat']\n",
    "varo = ['ResultsUpd_Intensity_Puck3_1','ResultsUpd_Intensity_Puck3_2']\n",
    "for i in range(len(var)):\n",
    "    output_path = f'V:\\Archive\\Maria\\Alzheimer_3rdFullRound_DrugStudy_May2024\\Day3_HSVnGTC_05.06.2024/{varo[i]}'\n",
    "    result = July_Alzer(var[i],output_path,'Day3_')"
   ]
  },
  {
   "cell_type": "markdown",
   "metadata": {},
   "source": [
    "Use the following to predict masks for FLIM images. Here each ROI has an optical section"
   ]
  },
  {
   "cell_type": "markdown",
   "metadata": {},
   "source": [
    "1. Predict mask for an ROI"
   ]
  },
  {
   "cell_type": "code",
   "execution_count": 3,
   "metadata": {},
   "outputs": [
    {
     "name": "stdout",
     "output_type": "stream",
     "text": [
      "1/1 [==============================] - 0s 449ms/step\n",
      "1/1 [==============================] - 0s 317ms/step\n"
     ]
    },
    {
     "data": {
      "application/vnd.jupyter.widget-view+json": {
       "model_id": "86f12ccf70d14ecabd20e301e74bbaf7",
       "version_major": 2,
       "version_minor": 0
      },
      "text/plain": [
       "VBox(children=(HBox(children=(Button(description='Back', style=ButtonStyle()), Button(description='Next', styl…"
      ]
     },
     "metadata": {},
     "output_type": "display_data"
    },
    {
     "data": {
      "application/vnd.jupyter.widget-view+json": {
       "model_id": "9e8c1d32a24a46e7b325492e8ea29908",
       "version_major": 2,
       "version_minor": 0
      },
      "text/plain": [
       "Output()"
      ]
     },
     "metadata": {},
     "output_type": "display_data"
    }
   ],
   "source": [
    "matfile = 'FLIMIma_HSV1_Day3_1_noTreat_6_TP1'\n",
    "var = f'V:/Archive/Maria/Alzheimer_3rdFullRound_DrugStudy_May2024/FLIM_Day3_HSV1_05.04.2024/Results/Data_{matfile}.mat'\n",
    "X,y = quality_assurance_duo(var)\n",
    "\n",
    "the = \"Illustrating the Performance of 2D YNET on Alzheimer's Data (3rd Round (Tile 2), May 2024)\"\n",
    "custom_name = f\"Data_{matfile}\"\n",
    "plot_base_duo(X.clip(0.001,0.1),y, 0.5, the,custom_name)\n",
    "\n",
    "stack_of_masks = y\n",
    "save_directory = 'V:/Archive/Maria/Alzheimer_3rdFullRound_DrugStudy_May2024/FLIM_Day3_HSV1_05.04.2024/Results/' \n",
    "default_filename = f'Predict_{matfile}'  \n",
    "open_and_correct_images(np.sum(X,axis=3),y, save_directory, default_filename)"
   ]
  },
  {
   "cell_type": "markdown",
   "metadata": {},
   "source": [
    "2. Assume the FLIM mask are already predicted and stored in a folder and needs cleaning"
   ]
  },
  {
   "cell_type": "code",
   "execution_count": 4,
   "metadata": {},
   "outputs": [
    {
     "data": {
      "application/vnd.jupyter.widget-view+json": {
       "model_id": "ed5be65ba36242558ee5f7624abf49e6",
       "version_major": 2,
       "version_minor": 0
      },
      "text/plain": [
       "VBox(children=(HBox(children=(Button(description='Back', style=ButtonStyle()), Button(description='Next', styl…"
      ]
     },
     "metadata": {},
     "output_type": "display_data"
    },
    {
     "data": {
      "application/vnd.jupyter.widget-view+json": {
       "model_id": "9783d922f6f540828013d83c1ffbf5d4",
       "version_major": 2,
       "version_minor": 0
      },
      "text/plain": [
       "Output()"
      ]
     },
     "metadata": {},
     "output_type": "display_data"
    }
   ],
   "source": [
    "matfile = 'FLIMIma_HSV1_Day3_1_noTreat_6_TP1'\n",
    "var = f'V:/Archive/Maria/Alzheimer_3rdFullRound_DrugStudy_May2024/FLIM_Day3_HSV1_05.04.2024/Results/Datam_{matfile}.mat'\n",
    "X,y = quality_assurance(var)\n",
    "\n",
    "the = \"Illustrating the Performance of 2D YNET on Alzheimer's Data (3rd Round (Tile 2), May 2024)\"\n",
    "custom_name = f\"Datam_{matfile}\"\n",
    "plot_base_duo(X.clip(0.00001,0.0005), np.expand_dims(y.T,axis=0), 0.5, the,custom_name)\n",
    "\n",
    "stack_of_masks = y\n",
    "save_directory = 'V:/Archive/Maria/Alzheimer_3rdFullRound_DrugStudy_May2024/FLIM_Day3_HSV1_05.04.2024/Results/'  \n",
    "default_filename = f'Predict_{matfile}'  \n",
    "open_and_correct_images(np.sum(X,axis=3),np.expand_dims(y.T,axis=0), save_directory, default_filename)"
   ]
  },
  {
   "cell_type": "markdown",
   "metadata": {},
   "source": [
    "3. Here, you want to simultaneously correct predicted masks (annotate weak cells) and annotate silk "
   ]
  },
  {
   "cell_type": "code",
   "execution_count": 5,
   "metadata": {},
   "outputs": [
    {
     "data": {
      "application/vnd.jupyter.widget-view+json": {
       "model_id": "111f5218938b40039a7f380d797d26b9",
       "version_major": 2,
       "version_minor": 0
      },
      "text/plain": [
       "VBox(children=(HBox(children=(Button(description='Back', style=ButtonStyle()), Button(description='Next', styl…"
      ]
     },
     "metadata": {},
     "output_type": "display_data"
    },
    {
     "data": {
      "application/vnd.jupyter.widget-view+json": {
       "model_id": "da9bc5820532425a93532d5418d756a1",
       "version_major": 2,
       "version_minor": 0
      },
      "text/plain": [
       "Output()"
      ]
     },
     "metadata": {},
     "output_type": "display_data"
    }
   ],
   "source": [
    "matfile = 'FLIMIma_HSV1_Day3_1_noTreat_6_TP1'\n",
    "var = f'V:/Archive/Maria/Alzheimer_3rdFullRound_DrugStudy_May2024/FLIM_Day3_HSV1_05.04.2024/Results/Datam_{matfile}.mat'\n",
    "X,y = quality_assurance(var)\n",
    "\n",
    "the = \"Illustrating the Performance of 2D YNET on Alzheimer's Data (3rd Round (Tile 2), May 2024)\"\n",
    "custom_name = f\"Datam_{matfile}\"\n",
    "plot_base_duo(X.clip(0.00001,0.0005), np.expand_dims(y.T,axis=0), 0.5, the,custom_name)\n",
    "\n",
    "stack_of_masks = y\n",
    "save_directory = 'V:/Archive/Maria/Alzheimer_3rdFullRound_DrugStudy_May2024/FLIM_Day3_HSV1_05.04.2024/Results/'  \n",
    "default_filename = f'Predict_{matfile}'  \n",
    "open_and_correct_images_silk(np.sum(X,axis=3),np.expand_dims(y.T,axis=0), save_directory, default_filename)"
   ]
  },
  {
   "cell_type": "markdown",
   "metadata": {},
   "source": [
    "Cleaning multiple optical sections follow a similar pattern as described above."
   ]
  },
  {
   "cell_type": "markdown",
   "metadata": {},
   "source": [
    "1. Assume masks already predicted and stored in the folders. Images and masks are loaded for different optical sections"
   ]
  },
  {
   "cell_type": "code",
   "execution_count": 6,
   "metadata": {},
   "outputs": [
    {
     "data": {
      "application/vnd.jupyter.widget-view+json": {
       "model_id": "541b0e423ff5461db69c828a7a1674e8",
       "version_major": 2,
       "version_minor": 0
      },
      "text/plain": [
       "VBox(children=(HBox(children=(Button(description='Back', style=ButtonStyle()), Button(description='Next', styl…"
      ]
     },
     "metadata": {},
     "output_type": "display_data"
    },
    {
     "data": {
      "application/vnd.jupyter.widget-view+json": {
       "model_id": "3157963f2d1c49de900bb9e5eeadebf2",
       "version_major": 2,
       "version_minor": 0
      },
      "text/plain": [
       "Output()"
      ]
     },
     "metadata": {},
     "output_type": "display_data"
    }
   ],
   "source": [
    "matfile = 'HSVinfec2_Day7_s30_noTreat_2'\n",
    "var = f'V:/Archive/Maria/Alzheimer_3rdFullRound_DrugStudy_May2024/Day7_HSV_05.08.2024/ResultsUpd_Intensity_Puck2_2/Datam_{matfile}.mat'\n",
    "X,y = quality_assurance(var)\n",
    "\n",
    "the = \"Illustrating the Performance of 2D YNET on Alzheimer's Data (3rd Round (Tile 2), May 2024)\"\n",
    "custom_name = f\"Datam_{matfile}\"\n",
    "plot_base_duo(X.clip(0.00001,0.0005), y, 0.5, the,custom_name)\n",
    "\n",
    "stack_of_masks = y\n",
    "save_directory = 'V:/Archive/Maria/Alzheimer_3rdFullRound_DrugStudy_May2024/Day7_HSV_05.08.2024/ResultsUpd_Intensity_Puck2_2/'  \n",
    "default_filename = f'Predicts_{matfile}'  \n",
    "open_and_correct_images_silk(np.sum(X,axis=3), y, save_directory, default_filename)"
   ]
  },
  {
   "cell_type": "markdown",
   "metadata": {},
   "source": [
    "2. Assume the masks are already predicted and cleaning of  optical sections are required"
   ]
  },
  {
   "cell_type": "code",
   "execution_count": 7,
   "metadata": {},
   "outputs": [
    {
     "data": {
      "application/vnd.jupyter.widget-view+json": {
       "model_id": "1543bba6c8bb475b8a96add10c00ecf6",
       "version_major": 2,
       "version_minor": 0
      },
      "text/plain": [
       "VBox(children=(HBox(children=(Button(description='Back', style=ButtonStyle()), Button(description='Next', styl…"
      ]
     },
     "metadata": {},
     "output_type": "display_data"
    },
    {
     "data": {
      "application/vnd.jupyter.widget-view+json": {
       "model_id": "b6df7907033b4c09935bce8121e8e92c",
       "version_major": 2,
       "version_minor": 0
      },
      "text/plain": [
       "Output()"
      ]
     },
     "metadata": {},
     "output_type": "display_data"
    }
   ],
   "source": [
    "matfile = 'HSVinfec2_Day7_s30_noTreat_2'\n",
    "var = f'V:/Archive/Maria/Alzheimer_3rdFullRound_DrugStudy_May2024/Day7_HSV_05.08.2024/ResultsUpd_Intensity_Puck2_2/Datam_{matfile}.mat'\n",
    "X,y = quality_assurance(var)\n",
    "\n",
    "the = \"Illustrating the Performance of 2D YNET on Alzheimer's Data (3rd Round (Tile 2), May 2024)\"\n",
    "custom_name = f\"Datam_{matfile}\"\n",
    "plot_base_duo(X.clip(0.00001,0.0005), y, 0.5, the,custom_name)\n",
    "\n",
    "stack_of_masks = y\n",
    "save_directory = 'V:/Archive/Maria/Alzheimer_3rdFullRound_DrugStudy_May2024/Day7_HSV_05.08.2024/ResultsUpd_Intensity_Puck2_2/'  \n",
    "default_filename = f'Predict_{matfile}'  \n",
    "open_and_correct_images(np.sum(X,axis=3), y, save_directory, default_filename)"
   ]
  }
 ],
 "metadata": {
  "kernelspec": {
   "display_name": "tufts_env",
   "language": "python",
   "name": "python3"
  },
  "language_info": {
   "codemirror_mode": {
    "name": "ipython",
    "version": 3
   },
   "file_extension": ".py",
   "mimetype": "text/x-python",
   "name": "python",
   "nbconvert_exporter": "python",
   "pygments_lexer": "ipython3",
   "version": "3.9.18"
  }
 },
 "nbformat": 4,
 "nbformat_minor": 2
}
